{
 "cells": [
  {
   "cell_type": "code",
   "execution_count": 89,
   "metadata": {
    "collapsed": false
   },
   "outputs": [],
   "source": [
    "import numpy as np\n",
    "import matplotlib.pyplot as plt\n",
    "#import skimage.transform\n",
    "import requests\n",
    "#import urllib\n",
    "import os\n",
    "#from PIL import Image\n",
    "#from skimage.filters import threshold_otsu\n",
    "%matplotlib inline"
   ]
  },
  {
   "cell_type": "code",
   "execution_count": 12,
   "metadata": {
    "collapsed": false
   },
   "outputs": [],
   "source": [
    "# copied from https://gist.github.com/dbader/5488053\n",
    "\n",
    "#!/usr/bin/env python\n",
    "# -*- coding: utf-8 -*-\n",
    "# Needs freetype-py>=1.0\n",
    "\n",
    "# For more info see:\n",
    "# http://dbader.org/blog/monochrome-font-rendering-with-freetype-and-python\n",
    "\n",
    "# The MIT License (MIT)\n",
    "#\n",
    "# Copyright (c) 2013 Daniel Bader (http://dbader.org)\n",
    "#\n",
    "# Permission is hereby granted, free of charge, to any person obtaining a copy\n",
    "# of this software and associated documentation files (the \"Software\"), to deal\n",
    "# in the Software without restriction, including without limitation the rights\n",
    "# to use, copy, modify, merge, publish, distribute, sublicense, and/or sell\n",
    "# copies of the Software, and to permit persons to whom the Software is\n",
    "# furnished to do so, subject to the following conditions:\n",
    "#\n",
    "# The above copyright notice and this permission notice shall be included in\n",
    "# all copies or substantial portions of the Software.\n",
    "#\n",
    "# THE SOFTWARE IS PROVIDED \"AS IS\", WITHOUT WARRANTY OF ANY KIND, EXPRESS OR\n",
    "# IMPLIED, INCLUDING BUT NOT LIMITED TO THE WARRANTIES OF MERCHANTABILITY,\n",
    "# FITNESS FOR A PARTICULAR PURPOSE AND NONINFRINGEMENT. IN NO EVENT SHALL THE\n",
    "# AUTHORS OR COPYRIGHT HOLDERS BE LIABLE FOR ANY CLAIM, DAMAGES OR OTHER\n",
    "# LIABILITY, WHETHER IN AN ACTION OF CONTRACT, TORT OR OTHERWISE, ARISING FROM,\n",
    "# OUT OF OR IN CONNECTION WITH THE SOFTWARE OR THE USE OR OTHER DEALINGS IN\n",
    "# THE SOFTWARE.\n",
    "\n",
    "import freetype\n",
    "\n",
    "\n",
    "class Bitmap(object):\n",
    "    \"\"\"\n",
    "    A 2D bitmap image represented as a list of byte values. Each byte indicates the state\n",
    "    of a single pixel in the bitmap. A value of 0 indicates that the pixel is `off`\n",
    "    and any other value indicates that it is `on`.\n",
    "    \"\"\"\n",
    "    def __init__(self, width, height, pixels=None):\n",
    "        self.width = width\n",
    "        self.height = height\n",
    "        self.pixels = pixels or bytearray(width * height)\n",
    "\n",
    "    def __repr__(self):\n",
    "        \"\"\"Return a string representation of the bitmap's pixels.\"\"\"\n",
    "        rows = ''\n",
    "        for y in range(self.height):\n",
    "            for x in range(self.width):\n",
    "                rows += '#' if self.pixels[y * self.width + x] else '.'\n",
    "            rows += '\\n'\n",
    "        return rows\n",
    "\n",
    "    def bitblt(self, src, x, y):\n",
    "        \"\"\"Copy all pixels from `src` into this bitmap\"\"\"\n",
    "        srcpixel = 0\n",
    "        dstpixel = y * self.width + x\n",
    "        row_offset = self.width - src.width\n",
    "\n",
    "        for sy in range(src.height):\n",
    "            for sx in range(src.width):\n",
    "                # Perform an OR operation on the destination pixel and the source pixel\n",
    "                # because glyph bitmaps may overlap if character kerning is applied, e.g.\n",
    "                # in the string \"AVA\", the \"A\" and \"V\" glyphs must be rendered with\n",
    "                # overlapping bounding boxes.\n",
    "                self.pixels[dstpixel] = self.pixels[dstpixel] or src.pixels[srcpixel]\n",
    "                srcpixel += 1\n",
    "                dstpixel += 1\n",
    "            dstpixel += row_offset\n",
    "\n",
    "\n",
    "class Glyph(object):\n",
    "    def __init__(self, pixels, width, height, top, advance_width):\n",
    "        self.bitmap = Bitmap(width, height, pixels)\n",
    "\n",
    "        # The glyph bitmap's top-side bearing, i.e. the vertical distance from the\n",
    "        # baseline to the bitmap's top-most scanline.\n",
    "        self.top = top\n",
    "\n",
    "        # Ascent and descent determine how many pixels the glyph extends\n",
    "        # above or below the baseline.\n",
    "        self.descent = max(0, self.height - self.top)\n",
    "        self.ascent = max(0, max(self.top, self.height) - self.descent)\n",
    "\n",
    "        # The advance width determines where to place the next character horizontally,\n",
    "        # that is, how many pixels we move to the right to draw the next glyph.\n",
    "        self.advance_width = advance_width\n",
    "\n",
    "    @property\n",
    "    def width(self):\n",
    "        return self.bitmap.width\n",
    "\n",
    "    @property\n",
    "    def height(self):\n",
    "        return self.bitmap.height\n",
    "\n",
    "    @staticmethod\n",
    "    def from_glyphslot(slot):\n",
    "        \"\"\"Construct and return a Glyph object from a FreeType GlyphSlot.\"\"\"\n",
    "        pixels = Glyph.unpack_mono_bitmap(slot.bitmap)\n",
    "        width, height = slot.bitmap.width, slot.bitmap.rows\n",
    "        top = slot.bitmap_top\n",
    "\n",
    "        # The advance width is given in FreeType's 26.6 fixed point format,\n",
    "        # which means that the pixel values are multiples of 64.\n",
    "        advance_width = slot.advance.x // 64\n",
    "\n",
    "        return Glyph(pixels, width, height, top, advance_width)\n",
    "\n",
    "    @staticmethod\n",
    "    def unpack_mono_bitmap(bitmap):\n",
    "        \"\"\"\n",
    "        Unpack a freetype FT_LOAD_TARGET_MONO glyph bitmap into a bytearray where each\n",
    "        pixel is represented by a single byte.\n",
    "        \"\"\"\n",
    "        # Allocate a bytearray of sufficient size to hold the glyph bitmap.\n",
    "        data = bytearray(bitmap.rows * bitmap.width)\n",
    "\n",
    "        # Iterate over every byte in the glyph bitmap. Note that we're not\n",
    "        # iterating over every pixel in the resulting unpacked bitmap --\n",
    "        # we're iterating over the packed bytes in the input bitmap.\n",
    "        for y in range(bitmap.rows):\n",
    "            for byte_index in range(bitmap.pitch):\n",
    "\n",
    "                # Read the byte that contains the packed pixel data.\n",
    "                byte_value = bitmap.buffer[y * bitmap.pitch + byte_index]\n",
    "\n",
    "                # We've processed this many bits (=pixels) so far. This determines\n",
    "                # where we'll read the next batch of pixels from.\n",
    "                num_bits_done = byte_index * 8\n",
    "\n",
    "                # Pre-compute where to write the pixels that we're going\n",
    "                # to unpack from the current byte in the glyph bitmap.\n",
    "                rowstart = y * bitmap.width + byte_index * 8\n",
    "\n",
    "                # Iterate over every bit (=pixel) that's still a part of the\n",
    "                # output bitmap. Sometimes we're only unpacking a fraction of a byte\n",
    "                # because glyphs may not always fit on a byte boundary. So we make sure\n",
    "                # to stop if we unpack past the current row of pixels.\n",
    "                for bit_index in range(min(8, bitmap.width - num_bits_done)):\n",
    "\n",
    "                    # Unpack the next pixel from the current glyph byte.\n",
    "                    bit = byte_value & (1 << (7 - bit_index))\n",
    "\n",
    "                    # Write the pixel to the output bytearray. We ensure that `off`\n",
    "                    # pixels have a value of 0 and `on` pixels have a value of 1.\n",
    "                    data[rowstart + bit_index] = 1 if bit else 0\n",
    "\n",
    "        return data\n",
    "\n",
    "\n",
    "class Font(object):\n",
    "    def __init__(self, filename, size):\n",
    "        self.face = freetype.Face(filename)\n",
    "        self.face.set_pixel_sizes(0, size)\n",
    "\n",
    "    def glyph_for_character(self, char):\n",
    "        # Let FreeType load the glyph for the given character and tell it to render\n",
    "        # a monochromatic bitmap representation.\n",
    "        self.face.load_char(char, freetype.FT_LOAD_RENDER | freetype.FT_LOAD_TARGET_MONO)\n",
    "        return Glyph.from_glyphslot(self.face.glyph)\n",
    "\n",
    "    def render_character(self, char):\n",
    "        glyph = self.glyph_for_character(char)\n",
    "        return glyph.bitmap\n",
    "\n",
    "    def kerning_offset(self, previous_char, char):\n",
    "        \"\"\"\n",
    "        Return the horizontal kerning offset in pixels when rendering `char`\n",
    "        after `previous_char`.\n",
    "\n",
    "        Use the resulting offset to adjust the glyph's drawing position to\n",
    "        reduces extra diagonal whitespace, for example in the string \"AV\" the\n",
    "        bitmaps for \"A\" and \"V\" may overlap slightly with some fonts. In this\n",
    "        case the glyph for \"V\" has a negative horizontal kerning offset as it is\n",
    "        moved slightly towards the \"A\".\n",
    "        \"\"\"\n",
    "        kerning = self.face.get_kerning(previous_char, char)\n",
    "\n",
    "        # The kerning offset is given in FreeType's 26.6 fixed point format,\n",
    "        # which means that the pixel values are multiples of 64.\n",
    "        return kerning.x // 64\n",
    "\n",
    "    def text_dimensions(self, text):\n",
    "        \"\"\"Return (width, height, baseline) of `text` rendered in the current font.\"\"\"\n",
    "        width = 0\n",
    "        max_ascent = 0\n",
    "        max_descent = 0\n",
    "        previous_char = None\n",
    "\n",
    "        # For each character in the text string we get the glyph\n",
    "        # and update the overall dimensions of the resulting bitmap.\n",
    "        for char in text:\n",
    "            glyph = self.glyph_for_character(char)\n",
    "            max_ascent = max(max_ascent, glyph.ascent)\n",
    "            max_descent = max(max_descent, glyph.descent)\n",
    "            kerning_x = self.kerning_offset(previous_char, char)\n",
    "\n",
    "            # With kerning, the advance width may be less than the width of the glyph's bitmap.\n",
    "            # Make sure we compute the total width so that all of the glyph's pixels\n",
    "            # fit into the returned dimensions.\n",
    "            width += max(glyph.advance_width + kerning_x, glyph.width + kerning_x)\n",
    "\n",
    "            previous_char = char\n",
    "\n",
    "        height = max_ascent + max_descent\n",
    "        return (width, height, max_descent)\n",
    "\n",
    "    def render_text(self, text, width=None, height=None, baseline=None):\n",
    "        \"\"\"\n",
    "        Render the given `text` into a Bitmap and return it.\n",
    "\n",
    "        If `width`, `height`, and `baseline` are not specified they are computed using\n",
    "        the `text_dimensions' method.\n",
    "        \"\"\"\n",
    "        if None in (width, height, baseline):\n",
    "            width, height, baseline = self.text_dimensions(text)\n",
    "\n",
    "        x = 0\n",
    "        previous_char = None\n",
    "        outbuffer = Bitmap(width, height)\n",
    "\n",
    "        for char in text:\n",
    "            glyph = self.glyph_for_character(char)\n",
    "\n",
    "            # Take kerning information into account before we render the\n",
    "            # glyph to the output bitmap.\n",
    "            x += self.kerning_offset(previous_char, char)\n",
    "\n",
    "            # The vertical drawing position should place the glyph\n",
    "            # on the baseline as intended.\n",
    "            y = height - glyph.ascent - baseline\n",
    "\n",
    "            outbuffer.bitblt(glyph.bitmap, x, y)\n",
    "\n",
    "            x += glyph.advance_width\n",
    "            previous_char = char\n",
    "\n",
    "        return outbuffer\n",
    "\n",
    "#if __name__ == '__main__':\n",
    "#    # Be sure to place 'helvetica.ttf' (or any other ttf / otf font file) in the working directory.\n",
    "#    fnt = Font('Apple ][.ttf', 8)\n",
    "#\n",
    "#    # Single characters\n",
    "#    ch = fnt.render_character('e')\n",
    "#    print(repr(ch))\n",
    "#\n",
    "#    # Multiple characters\n",
    "#    txt = fnt.render_text('hello')\n",
    "#    print(repr(txt))\n",
    "#\n",
    "#    # Kerning\n",
    "#    print(repr(fnt.render_text('AV Wa')))\n",
    "#\n",
    "#    # Choosing the baseline correctly\n",
    "#    print(repr(fnt.render_text('hello, world.')))"
   ]
  },
  {
   "cell_type": "code",
   "execution_count": 6,
   "metadata": {
    "collapsed": true
   },
   "outputs": [],
   "source": [
    "DISPLAY_WIDTH = 96\n",
    "DISPLAY_HEIGHT = 27"
   ]
  },
  {
   "cell_type": "code",
   "execution_count": null,
   "metadata": {
    "collapsed": false
   },
   "outputs": [],
   "source": [
    "#FN = 'http://www.freeiconspng.com/uploads/blue-snow-icon-8.png'\n",
    "#FN = 'http://www.freeiconspng.com/uploads/black-autumn-leaf-icon-7.jpeg'\n",
    "#urllib.request.urlretrieve(FN, 'image')\n",
    "#im = Image.open('image')"
   ]
  },
  {
   "cell_type": "code",
   "execution_count": 284,
   "metadata": {
    "collapsed": true
   },
   "outputs": [],
   "source": [
    "def pad_text_line(txtbmp): # bitmap object, display height, display width\n",
    "    DH = 27\n",
    "    DW = 96\n",
    "    height = txtbmp.height\n",
    "    width = txtbmp.width\n",
    "    \n",
    "    im = np.array(txtbmp.pixels)\n",
    "    im.resize((height, width))\n",
    "    im = np.hstack((im, np.zeros((height,DW-width))))\n",
    "    im = np.vstack((np.zeros((1,DISPLAY_WIDTH)), im))\n",
    "    if height < 6:\n",
    "        im = np.vstack((im, np.zeros((1,DISPLAY_WIDTH))))\n",
    "    \n",
    "    return im\n",
    "\n",
    "def stack_lines(line1, line2, line3, line4):\n",
    "    return np.vstack((pad_text_line(line1), pad_text_line(line2), pad_text_line(line3), pad_text_line(line4)[:-1,:]))"
   ]
  },
  {
   "cell_type": "code",
   "execution_count": 304,
   "metadata": {
    "collapsed": false
   },
   "outputs": [
    {
     "name": "stdout",
     "output_type": "stream",
     "text": [
      "(6, 91)\n"
     ]
    },
    {
     "data": {
      "text/plain": [
       "(27, 96)"
      ]
     },
     "execution_count": 304,
     "metadata": {},
     "output_type": "execute_result"
    }
   ],
   "source": [
    "#fnt = Font('Apple ][.ttf', 8)\n",
    "fnt = Font('slkscr.ttf', 8)\n",
    "line1 = fnt.render_text('hello makehaven')\n",
    "line2 = fnt.render_text(' ---robby blum')\n",
    "line3 = fnt.render_text('makehaven, hello.')\n",
    "line4 = fnt.render_text('      :-)')\n",
    "#print(line1)\n",
    "#print(line2)\n",
    "#print(line3)\n",
    "#print(line4)\n",
    "print((line3.height, line3.width))\n",
    "\n",
    "\n",
    "#im1 = np.array(line1.pixels)\n",
    "#im2 = np.array(line2.pixels)\n",
    "#im3 = np.array(line3.pixels)\n",
    "#im4 = np.array(line4.pixels)\n",
    "\n",
    "#im1.resize((line1.height, line1.width))\n",
    "#im2.resize((line2.height, line2.width))\n",
    "#im3.resize((line3.height, line3.width))\n",
    "#im4.resize((line4.height, line4.width))\n",
    "\n",
    "#im1 = np.hstack((im1, np.zeros((line1.height,DISPLAY_WIDTH-line1.width))))\n",
    "#im2 = np.hstack((im2, np.zeros((line2.height,DISPLAY_WIDTH-line2.width))))\n",
    "#im3 = np.hstack((im3, np.zeros((line3.height,DISPLAY_WIDTH-line3.width))))\n",
    "#im4 = np.hstack((im4, np.zeros((line4.height,DISPLAY_WIDTH-line4.width))))\n",
    "\n",
    "#buffer1 = np.zeros((1,DISPLAY_WIDTH))\n",
    "#buffer2 = np.zeros((2,DISPLAY_WIDTH))\n",
    "#im = np.vstack((pad_text_line(line1), pad_text_line(line2), pad_text_line(line3), pad_text_line(line4)))\n",
    "im = stack_lines(line1, line2, line3, line4)\n",
    "#im = im2[:,0:96]\n",
    "im.shape"
   ]
  },
  {
   "cell_type": "code",
   "execution_count": 305,
   "metadata": {
    "collapsed": false
   },
   "outputs": [
    {
     "data": {
      "text/plain": [
       "<matplotlib.image.AxesImage at 0x1101ff390>"
      ]
     },
     "execution_count": 305,
     "metadata": {},
     "output_type": "execute_result"
    },
    {
     "data": {
      "image/png": "[encoded data removed]",
      "text/plain": [
       "<matplotlib.figure.Figure at 0x110141320>"
      ]
     },
     "metadata": {},
     "output_type": "display_data"
    }
   ],
   "source": [
    "plt.imshow(im)"
   ]
  },
  {
   "cell_type": "code",
   "execution_count": 306,
   "metadata": {
    "collapsed": false
   },
   "outputs": [],
   "source": [
    "# put image data into C code string\n",
    "\n",
    "s = 'static const unsigned char buf[] = {'\n",
    "for y in range(DISPLAY_HEIGHT):\n",
    "    for x in range(DISPLAY_WIDTH):\n",
    "        s += '%d,' % im[DISPLAY_HEIGHT - 1 - y, x]\n",
    "s = s[:-1]\n",
    "s += '};'"
   ]
  },
  {
   "cell_type": "code",
   "execution_count": 307,
   "metadata": {
    "collapsed": false
   },
   "outputs": [],
   "source": [
    "with open('buf.h', 'w') as of:\n",
    "    of.write(s)"
   ]
  },
  {
   "cell_type": "code",
   "execution_count": 308,
   "metadata": {
    "collapsed": false
   },
   "outputs": [
    {
     "name": "stdout",
     "output_type": "stream",
     "text": [
      "<Response [200]> {\"ok\":true,\"message\":\"Update started\"}\n"
     ]
    }
   ],
   "source": [
    "# upload source to particle.io cloud firmware update\n",
    "\n",
    "#files = {'base.cpp': open('base.ino','rb'), 'buf.h': open('buf.h', 'rb')}\n",
    "files = {'base.cpp': open('scroll.ino','rb'), 'buf.h': open('buf.h', 'rb')}\n",
    "url = 'https://api.particle.io/v1/devices/{}?access_token={}'.format(\n",
    "    os.environ['PARTICLE_ID'],\n",
    "    os.environ['TOKEN'])\n",
    "\n",
    "r = requests.put(url,files=files)\n",
    "\n",
    "print(r, r.text)"
   ]
  },
  {
   "cell_type": "code",
   "execution_count": 302,
   "metadata": {
    "collapsed": false
   },
   "outputs": [
    {
     "data": {
      "text/plain": [
       "(27, 96)"
      ]
     },
     "execution_count": 302,
     "metadata": {},
     "output_type": "execute_result"
    }
   ],
   "source": [
    "shrine = np.loadtxt('shrine.csv',dtype=int,delimiter=',')\n",
    "shrine\n",
    "cols = shrine.shape[1]\n",
    "im = np.hstack((shrine, np.zeros((27, 96-cols))))\n",
    "im.shape"
   ]
  },
  {
   "cell_type": "code",
   "execution_count": null,
   "metadata": {
    "collapsed": true
   },
   "outputs": [],
   "source": []
  }
 ],
 "metadata": {
  "anaconda-cloud": {},
  "kernelspec": {
   "display_name": "Python 3",
   "language": "python",
   "name": "python3"
  },
  "language_info": {
   "codemirror_mode": {
    "name": "ipython",
    "version": 3
   },
   "file_extension": ".py",
   "mimetype": "text/x-python",
   "name": "python",
   "nbconvert_exporter": "python",
   "pygments_lexer": "ipython3",
   "version": "3.5.2"
  }
 },
 "nbformat": 4,
 "nbformat_minor": 2
}
